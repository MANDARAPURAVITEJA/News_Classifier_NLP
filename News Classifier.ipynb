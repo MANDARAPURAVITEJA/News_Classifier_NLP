{
 "cells": [
  {
   "cell_type": "markdown",
   "id": "c9f48c24",
   "metadata": {},
   "source": [
    "## News Classifier using NLP"
   ]
  },
  {
   "cell_type": "markdown",
   "id": "bf5ccfb8",
   "metadata": {},
   "source": [
    "### Importing packages"
   ]
  },
  {
   "cell_type": "code",
   "execution_count": null,
   "id": "d77888b0",
   "metadata": {},
   "outputs": [
    {
     "ename": "",
     "evalue": "",
     "output_type": "error",
     "traceback": [
      "\u001b[1;31mRunning cells with 'k:\\DATA SCIENCE Reference\\Projects\\News_Classifier_NLP\\newsenv\\python.exe' requires the ipykernel package.\n",
      "\u001b[1;31mRun the following command to install 'ipykernel' into the Python environment. \n",
      "\u001b[1;31mCommand: 'conda install -p k:\\DATA SCIENCE Reference\\Projects\\News_Classifier_NLP\\newsenv ipykernel --update-deps --force-reinstall'"
     ]
    }
   ],
   "source": [
    "import numpy as np\n",
    "import pandas as pd\n",
    "import matplotlib.pyplot as plt\n",
    "import seaborn as sns\n",
    "from gensim import utils\n",
    "import gensim.parsing.preprocessing as gsp\n",
    "%matplotlib inline"
   ]
  },
  {
   "cell_type": "markdown",
   "id": "67ddd6ed",
   "metadata": {},
   "source": [
    "### Loading the Dataset"
   ]
  },
  {
   "cell_type": "code",
   "execution_count": null,
   "id": "24ac26b6",
   "metadata": {},
   "outputs": [
    {
     "ename": "",
     "evalue": "",
     "output_type": "error",
     "traceback": [
      "\u001b[1;31mRunning cells with 'k:\\DATA SCIENCE Reference\\Projects\\News_Classifier_NLP\\newsenv\\python.exe' requires the ipykernel package.\n",
      "\u001b[1;31mRun the following command to install 'ipykernel' into the Python environment. \n",
      "\u001b[1;31mCommand: 'conda install -p k:\\DATA SCIENCE Reference\\Projects\\News_Classifier_NLP\\newsenv ipykernel --update-deps --force-reinstall'"
     ]
    }
   ],
   "source": [
    "dataset = pd.read_csv('Datasets/bbc-text.csv')\n",
    "dataset.head()"
   ]
  },
  {
   "cell_type": "code",
   "execution_count": null,
   "id": "d431fa53",
   "metadata": {},
   "outputs": [
    {
     "ename": "",
     "evalue": "",
     "output_type": "error",
     "traceback": [
      "\u001b[1;31mRunning cells with 'k:\\DATA SCIENCE Reference\\Projects\\News_Classifier_NLP\\newsenv\\python.exe' requires the ipykernel package.\n",
      "\u001b[1;31mRun the following command to install 'ipykernel' into the Python environment. \n",
      "\u001b[1;31mCommand: 'conda install -p k:\\DATA SCIENCE Reference\\Projects\\News_Classifier_NLP\\newsenv ipykernel --update-deps --force-reinstall'"
     ]
    }
   ],
   "source": [
    "#Checking the count of each Category in our dataset\n",
    "\n",
    "plt.figure(figsize=(12,5))\n",
    "sns.countplot(x=dataset.category)\n",
    "plt.title('BBC text class distribution', fontsize=16)\n",
    "plt.ylabel('Class Counts', fontsize=16)\n",
    "plt.xlabel('Class Label', fontsize=16)"
   ]
  },
  {
   "cell_type": "markdown",
   "id": "0ce9fa6b",
   "metadata": {},
   "source": [
    "So, we have business and sport has majority count."
   ]
  },
  {
   "cell_type": "code",
   "execution_count": null,
   "id": "1179d98f",
   "metadata": {},
   "outputs": [
    {
     "ename": "",
     "evalue": "",
     "output_type": "error",
     "traceback": [
      "\u001b[1;31mRunning cells with 'k:\\DATA SCIENCE Reference\\Projects\\News_Classifier_NLP\\newsenv\\python.exe' requires the ipykernel package.\n",
      "\u001b[1;31mRun the following command to install 'ipykernel' into the Python environment. \n",
      "\u001b[1;31mCommand: 'conda install -p k:\\DATA SCIENCE Reference\\Projects\\News_Classifier_NLP\\newsenv ipykernel --update-deps --force-reinstall'"
     ]
    }
   ],
   "source": [
    "dataset.info()"
   ]
  },
  {
   "cell_type": "code",
   "execution_count": null,
   "id": "06ea4e0a",
   "metadata": {},
   "outputs": [
    {
     "ename": "",
     "evalue": "",
     "output_type": "error",
     "traceback": [
      "\u001b[1;31mRunning cells with 'k:\\DATA SCIENCE Reference\\Projects\\News_Classifier_NLP\\newsenv\\python.exe' requires the ipykernel package.\n",
      "\u001b[1;31mRun the following command to install 'ipykernel' into the Python environment. \n",
      "\u001b[1;31mCommand: 'conda install -p k:\\DATA SCIENCE Reference\\Projects\\News_Classifier_NLP\\newsenv ipykernel --update-deps --force-reinstall'"
     ]
    }
   ],
   "source": [
    "dataset['text'][1]"
   ]
  },
  {
   "cell_type": "code",
   "execution_count": null,
   "id": "630e15d1",
   "metadata": {},
   "outputs": [
    {
     "ename": "",
     "evalue": "",
     "output_type": "error",
     "traceback": [
      "\u001b[1;31mRunning cells with 'k:\\DATA SCIENCE Reference\\Projects\\News_Classifier_NLP\\newsenv\\python.exe' requires the ipykernel package.\n",
      "\u001b[1;31mRun the following command to install 'ipykernel' into the Python environment. \n",
      "\u001b[1;31mCommand: 'conda install -p k:\\DATA SCIENCE Reference\\Projects\\News_Classifier_NLP\\newsenv ipykernel --update-deps --force-reinstall'"
     ]
    }
   ],
   "source": [
    "filters = [\n",
    "    gsp.strip_tags,\n",
    "    gsp.strip_punctuation,\n",
    "    gsp.strip_multiple_whitespaces,\n",
    "    gsp.strip_numeric,\n",
    "    gsp.remove_stopwords,\n",
    "    gsp.strip_short,\n",
    "    gsp.stem_text\n",
    "]\n",
    "\n",
    "def clean_text(s):\n",
    "    s = s.lower()\n",
    "    s = utils.to_unicode(s)\n",
    "    for f in filters:\n",
    "        s = f(s)\n",
    "    return s"
   ]
  },
  {
   "cell_type": "code",
   "execution_count": null,
   "id": "d2c75135",
   "metadata": {},
   "outputs": [
    {
     "ename": "",
     "evalue": "",
     "output_type": "error",
     "traceback": [
      "\u001b[1;31mRunning cells with 'k:\\DATA SCIENCE Reference\\Projects\\News_Classifier_NLP\\newsenv\\python.exe' requires the ipykernel package.\n",
      "\u001b[1;31mRun the following command to install 'ipykernel' into the Python environment. \n",
      "\u001b[1;31mCommand: 'conda install -p k:\\DATA SCIENCE Reference\\Projects\\News_Classifier_NLP\\newsenv ipykernel --update-deps --force-reinstall'"
     ]
    }
   ],
   "source": [
    "dataset.iloc[2,1]"
   ]
  },
  {
   "cell_type": "code",
   "execution_count": null,
   "id": "da442cd0",
   "metadata": {},
   "outputs": [
    {
     "ename": "",
     "evalue": "",
     "output_type": "error",
     "traceback": [
      "\u001b[1;31mRunning cells with 'k:\\DATA SCIENCE Reference\\Projects\\News_Classifier_NLP\\newsenv\\python.exe' requires the ipykernel package.\n",
      "\u001b[1;31mRun the following command to install 'ipykernel' into the Python environment. \n",
      "\u001b[1;31mCommand: 'conda install -p k:\\DATA SCIENCE Reference\\Projects\\News_Classifier_NLP\\newsenv ipykernel --update-deps --force-reinstall'"
     ]
    }
   ],
   "source": [
    "#Cleaning the text\n",
    "\n",
    "clean_text(dataset.iloc[2,1])"
   ]
  },
  {
   "cell_type": "code",
   "execution_count": null,
   "id": "75f88d5d",
   "metadata": {},
   "outputs": [
    {
     "ename": "",
     "evalue": "",
     "output_type": "error",
     "traceback": [
      "\u001b[1;31mRunning cells with 'k:\\DATA SCIENCE Reference\\Projects\\News_Classifier_NLP\\newsenv\\python.exe' requires the ipykernel package.\n",
      "\u001b[1;31mRun the following command to install 'ipykernel' into the Python environment. \n",
      "\u001b[1;31mCommand: 'conda install -p k:\\DATA SCIENCE Reference\\Projects\\News_Classifier_NLP\\newsenv ipykernel --update-deps --force-reinstall'"
     ]
    }
   ],
   "source": [
    "#!pip install wordcloud\n",
    "from wordcloud import WordCloud"
   ]
  },
  {
   "cell_type": "code",
   "execution_count": null,
   "id": "686a1c22",
   "metadata": {},
   "outputs": [
    {
     "ename": "",
     "evalue": "",
     "output_type": "error",
     "traceback": [
      "\u001b[1;31mRunning cells with 'k:\\DATA SCIENCE Reference\\Projects\\News_Classifier_NLP\\newsenv\\python.exe' requires the ipykernel package.\n",
      "\u001b[1;31mRun the following command to install 'ipykernel' into the Python environment. \n",
      "\u001b[1;31mCommand: 'conda install -p k:\\DATA SCIENCE Reference\\Projects\\News_Classifier_NLP\\newsenv ipykernel --update-deps --force-reinstall'"
     ]
    }
   ],
   "source": [
    "#To display most frequent occurance of words in the document\n",
    "def plot_word_cloud(text):\n",
    "    wordcloud_instance = WordCloud(width = 800, height = 800, \n",
    "                background_color ='black', \n",
    "                stopwords=None,\n",
    "                min_font_size = 10).generate(text) \n",
    "             \n",
    "    plt.figure(figsize = (8, 8), facecolor = None) \n",
    "    plt.imshow(wordcloud_instance) \n",
    "    plt.axis(\"off\") \n",
    "    plt.tight_layout(pad = 0) \n",
    "    plt.show()"
   ]
  },
  {
   "cell_type": "code",
   "execution_count": null,
   "id": "4a9a8a05",
   "metadata": {},
   "outputs": [
    {
     "ename": "",
     "evalue": "",
     "output_type": "error",
     "traceback": [
      "\u001b[1;31mRunning cells with 'k:\\DATA SCIENCE Reference\\Projects\\News_Classifier_NLP\\newsenv\\python.exe' requires the ipykernel package.\n",
      "\u001b[1;31mRun the following command to install 'ipykernel' into the Python environment. \n",
      "\u001b[1;31mCommand: 'conda install -p k:\\DATA SCIENCE Reference\\Projects\\News_Classifier_NLP\\newsenv ipykernel --update-deps --force-reinstall'"
     ]
    }
   ],
   "source": [
    "plot_word_cloud(clean_text(dataset.iloc[2,1]))"
   ]
  },
  {
   "cell_type": "code",
   "execution_count": null,
   "id": "73276acc",
   "metadata": {},
   "outputs": [
    {
     "ename": "",
     "evalue": "",
     "output_type": "error",
     "traceback": [
      "\u001b[1;31mRunning cells with 'k:\\DATA SCIENCE Reference\\Projects\\News_Classifier_NLP\\newsenv\\python.exe' requires the ipykernel package.\n",
      "\u001b[1;31mRun the following command to install 'ipykernel' into the Python environment. \n",
      "\u001b[1;31mCommand: 'conda install -p k:\\DATA SCIENCE Reference\\Projects\\News_Classifier_NLP\\newsenv ipykernel --update-deps --force-reinstall'"
     ]
    }
   ],
   "source": [
    "#To display most frequent occurance of words in the entire Corpus\n",
    "texts = ''\n",
    "for index, item in dataset.iterrows():\n",
    "    texts = texts + ' ' + clean_text(item['text'])\n",
    "    \n",
    "plot_word_cloud(texts)"
   ]
  },
  {
   "cell_type": "code",
   "execution_count": null,
   "id": "5d18dbf1",
   "metadata": {},
   "outputs": [
    {
     "ename": "",
     "evalue": "",
     "output_type": "error",
     "traceback": [
      "\u001b[1;31mRunning cells with 'k:\\DATA SCIENCE Reference\\Projects\\News_Classifier_NLP\\newsenv\\python.exe' requires the ipykernel package.\n",
      "\u001b[1;31mRun the following command to install 'ipykernel' into the Python environment. \n",
      "\u001b[1;31mCommand: 'conda install -p k:\\DATA SCIENCE Reference\\Projects\\News_Classifier_NLP\\newsenv ipykernel --update-deps --force-reinstall'"
     ]
    }
   ],
   "source": [
    "#To display most frequent occurance of words based on each Category\n",
    "def plot_word_cloud_for_category(bbc_text_df, category):\n",
    "    text_df = bbc_text_df.loc[bbc_text_df['category'] == str(category)]\n",
    "    texts = ''\n",
    "    for index, item in text_df.iterrows():\n",
    "        texts = texts + ' ' + clean_text(item['text'])\n",
    "    print('************'+category.title()+' Category********************')\n",
    "    plot_word_cloud(texts)"
   ]
  },
  {
   "cell_type": "code",
   "execution_count": null,
   "id": "a99e11c2",
   "metadata": {},
   "outputs": [
    {
     "ename": "",
     "evalue": "",
     "output_type": "error",
     "traceback": [
      "\u001b[1;31mRunning cells with 'k:\\DATA SCIENCE Reference\\Projects\\News_Classifier_NLP\\newsenv\\python.exe' requires the ipykernel package.\n",
      "\u001b[1;31mRun the following command to install 'ipykernel' into the Python environment. \n",
      "\u001b[1;31mCommand: 'conda install -p k:\\DATA SCIENCE Reference\\Projects\\News_Classifier_NLP\\newsenv ipykernel --update-deps --force-reinstall'"
     ]
    }
   ],
   "source": [
    "for cat in list(set(list(dataset[\"category\"]))):\n",
    "    plot_word_cloud_for_category(dataset,cat)"
   ]
  },
  {
   "cell_type": "code",
   "execution_count": null,
   "id": "68ae4abb",
   "metadata": {},
   "outputs": [
    {
     "ename": "",
     "evalue": "",
     "output_type": "error",
     "traceback": [
      "\u001b[1;31mRunning cells with 'k:\\DATA SCIENCE Reference\\Projects\\News_Classifier_NLP\\newsenv\\python.exe' requires the ipykernel package.\n",
      "\u001b[1;31mRun the following command to install 'ipykernel' into the Python environment. \n",
      "\u001b[1;31mCommand: 'conda install -p k:\\DATA SCIENCE Reference\\Projects\\News_Classifier_NLP\\newsenv ipykernel --update-deps --force-reinstall'"
     ]
    }
   ],
   "source": [
    "X = dataset['text']\n",
    "y = dataset['category']"
   ]
  },
  {
   "cell_type": "code",
   "execution_count": null,
   "id": "0cef3ae6",
   "metadata": {},
   "outputs": [
    {
     "ename": "",
     "evalue": "",
     "output_type": "error",
     "traceback": [
      "\u001b[1;31mRunning cells with 'k:\\DATA SCIENCE Reference\\Projects\\News_Classifier_NLP\\newsenv\\python.exe' requires the ipykernel package.\n",
      "\u001b[1;31mRun the following command to install 'ipykernel' into the Python environment. \n",
      "\u001b[1;31mCommand: 'conda install -p k:\\DATA SCIENCE Reference\\Projects\\News_Classifier_NLP\\newsenv ipykernel --update-deps --force-reinstall'"
     ]
    }
   ],
   "source": [
    "from sklearn.feature_extraction.text import TfidfVectorizer\n",
    "from sklearn.base import BaseEstimator\n",
    "\n",
    "class Text2TFIDFTransformer(BaseEstimator):\n",
    "    \n",
    "    def __init__(self):\n",
    "        self._model = TfidfVectorizer()\n",
    "        pass\n",
    "    def fit(self, df_x, y=None):\n",
    "        df_x = df_x.apply(lambda x: clean_text(x))\n",
    "        self._model.fit(df_x)\n",
    "        return self\n",
    "    \n",
    "    def transform(self, df_x):\n",
    "        return self._model.transform(df_x)"
   ]
  },
  {
   "cell_type": "code",
   "execution_count": null,
   "id": "4ca88592",
   "metadata": {},
   "outputs": [
    {
     "ename": "",
     "evalue": "",
     "output_type": "error",
     "traceback": [
      "\u001b[1;31mRunning cells with 'k:\\DATA SCIENCE Reference\\Projects\\News_Classifier_NLP\\newsenv\\python.exe' requires the ipykernel package.\n",
      "\u001b[1;31mRun the following command to install 'ipykernel' into the Python environment. \n",
      "\u001b[1;31mCommand: 'conda install -p k:\\DATA SCIENCE Reference\\Projects\\News_Classifier_NLP\\newsenv ipykernel --update-deps --force-reinstall'"
     ]
    }
   ],
   "source": [
    "tfidf_transformers = Text2TFIDFTransformer()\n",
    "tfidf_vectors = tfidf_transformers.fit(X).transform(X)\n"
   ]
  },
  {
   "cell_type": "code",
   "execution_count": null,
   "id": "a5fee0ab",
   "metadata": {},
   "outputs": [
    {
     "ename": "",
     "evalue": "",
     "output_type": "error",
     "traceback": [
      "\u001b[1;31mRunning cells with 'k:\\DATA SCIENCE Reference\\Projects\\News_Classifier_NLP\\newsenv\\python.exe' requires the ipykernel package.\n",
      "\u001b[1;31mRun the following command to install 'ipykernel' into the Python environment. \n",
      "\u001b[1;31mCommand: 'conda install -p k:\\DATA SCIENCE Reference\\Projects\\News_Classifier_NLP\\newsenv ipykernel --update-deps --force-reinstall'"
     ]
    }
   ],
   "source": [
    "tfidf_vectors.shape"
   ]
  },
  {
   "cell_type": "code",
   "execution_count": null,
   "id": "a7b9d06b",
   "metadata": {},
   "outputs": [
    {
     "ename": "",
     "evalue": "",
     "output_type": "error",
     "traceback": [
      "\u001b[1;31mRunning cells with 'k:\\DATA SCIENCE Reference\\Projects\\News_Classifier_NLP\\newsenv\\python.exe' requires the ipykernel package.\n",
      "\u001b[1;31mRun the following command to install 'ipykernel' into the Python environment. \n",
      "\u001b[1;31mCommand: 'conda install -p k:\\DATA SCIENCE Reference\\Projects\\News_Classifier_NLP\\newsenv ipykernel --update-deps --force-reinstall'"
     ]
    }
   ],
   "source": [
    "print(tfidf_vectors)"
   ]
  },
  {
   "cell_type": "code",
   "execution_count": null,
   "id": "882c0d65",
   "metadata": {},
   "outputs": [
    {
     "ename": "",
     "evalue": "",
     "output_type": "error",
     "traceback": [
      "\u001b[1;31mRunning cells with 'k:\\DATA SCIENCE Reference\\Projects\\News_Classifier_NLP\\newsenv\\python.exe' requires the ipykernel package.\n",
      "\u001b[1;31mRun the following command to install 'ipykernel' into the Python environment. \n",
      "\u001b[1;31mCommand: 'conda install -p k:\\DATA SCIENCE Reference\\Projects\\News_Classifier_NLP\\newsenv ipykernel --update-deps --force-reinstall'"
     ]
    }
   ],
   "source": [
    "from sklearn.preprocessing import LabelEncoder\n",
    "le = LabelEncoder()\n",
    "le.fit(list(set(list(dataset['category']))))"
   ]
  },
  {
   "cell_type": "code",
   "execution_count": null,
   "id": "bd0f13d9",
   "metadata": {},
   "outputs": [
    {
     "ename": "",
     "evalue": "",
     "output_type": "error",
     "traceback": [
      "\u001b[1;31mRunning cells with 'k:\\DATA SCIENCE Reference\\Projects\\News_Classifier_NLP\\newsenv\\python.exe' requires the ipykernel package.\n",
      "\u001b[1;31mRun the following command to install 'ipykernel' into the Python environment. \n",
      "\u001b[1;31mCommand: 'conda install -p k:\\DATA SCIENCE Reference\\Projects\\News_Classifier_NLP\\newsenv ipykernel --update-deps --force-reinstall'"
     ]
    }
   ],
   "source": [
    "list(le.classes_)"
   ]
  },
  {
   "cell_type": "code",
   "execution_count": null,
   "id": "e9105598",
   "metadata": {},
   "outputs": [
    {
     "ename": "",
     "evalue": "",
     "output_type": "error",
     "traceback": [
      "\u001b[1;31mRunning cells with 'k:\\DATA SCIENCE Reference\\Projects\\News_Classifier_NLP\\newsenv\\python.exe' requires the ipykernel package.\n",
      "\u001b[1;31mRun the following command to install 'ipykernel' into the Python environment. \n",
      "\u001b[1;31mCommand: 'conda install -p k:\\DATA SCIENCE Reference\\Projects\\News_Classifier_NLP\\newsenv ipykernel --update-deps --force-reinstall'"
     ]
    }
   ],
   "source": [
    "le.transform(list(set(list(dataset['category']))))"
   ]
  },
  {
   "cell_type": "code",
   "execution_count": null,
   "id": "326d90fb",
   "metadata": {},
   "outputs": [
    {
     "ename": "",
     "evalue": "",
     "output_type": "error",
     "traceback": [
      "\u001b[1;31mRunning cells with 'k:\\DATA SCIENCE Reference\\Projects\\News_Classifier_NLP\\newsenv\\python.exe' requires the ipykernel package.\n",
      "\u001b[1;31mRun the following command to install 'ipykernel' into the Python environment. \n",
      "\u001b[1;31mCommand: 'conda install -p k:\\DATA SCIENCE Reference\\Projects\\News_Classifier_NLP\\newsenv ipykernel --update-deps --force-reinstall'"
     ]
    }
   ],
   "source": [
    "dataset['category'] = le.transform(dataset['category'])"
   ]
  },
  {
   "cell_type": "code",
   "execution_count": null,
   "id": "79311a33",
   "metadata": {},
   "outputs": [
    {
     "ename": "",
     "evalue": "",
     "output_type": "error",
     "traceback": [
      "\u001b[1;31mRunning cells with 'k:\\DATA SCIENCE Reference\\Projects\\News_Classifier_NLP\\newsenv\\python.exe' requires the ipykernel package.\n",
      "\u001b[1;31mRun the following command to install 'ipykernel' into the Python environment. \n",
      "\u001b[1;31mCommand: 'conda install -p k:\\DATA SCIENCE Reference\\Projects\\News_Classifier_NLP\\newsenv ipykernel --update-deps --force-reinstall'"
     ]
    }
   ],
   "source": [
    "type(dataset['text'].values[1])"
   ]
  },
  {
   "cell_type": "markdown",
   "id": "189549ec",
   "metadata": {},
   "source": [
    "### Splitting the data into train and test set"
   ]
  },
  {
   "cell_type": "code",
   "execution_count": null,
   "id": "74ff1a02",
   "metadata": {},
   "outputs": [
    {
     "ename": "",
     "evalue": "",
     "output_type": "error",
     "traceback": [
      "\u001b[1;31mRunning cells with 'k:\\DATA SCIENCE Reference\\Projects\\News_Classifier_NLP\\newsenv\\python.exe' requires the ipykernel package.\n",
      "\u001b[1;31mRun the following command to install 'ipykernel' into the Python environment. \n",
      "\u001b[1;31mCommand: 'conda install -p k:\\DATA SCIENCE Reference\\Projects\\News_Classifier_NLP\\newsenv ipykernel --update-deps --force-reinstall'"
     ]
    }
   ],
   "source": [
    "from sklearn.model_selection import train_test_split\n",
    "X_train, X_test, y_train, y_test = train_test_split(dataset['text'].values.astype('U'),dataset['category'].values.astype('int32'), test_size=0.10, random_state=0)\n",
    "classes  = dataset['category'].unique()"
   ]
  },
  {
   "cell_type": "code",
   "execution_count": null,
   "id": "72579f6f",
   "metadata": {},
   "outputs": [
    {
     "ename": "",
     "evalue": "",
     "output_type": "error",
     "traceback": [
      "\u001b[1;31mRunning cells with 'k:\\DATA SCIENCE Reference\\Projects\\News_Classifier_NLP\\newsenv\\python.exe' requires the ipykernel package.\n",
      "\u001b[1;31mRun the following command to install 'ipykernel' into the Python environment. \n",
      "\u001b[1;31mCommand: 'conda install -p k:\\DATA SCIENCE Reference\\Projects\\News_Classifier_NLP\\newsenv ipykernel --update-deps --force-reinstall'"
     ]
    }
   ],
   "source": [
    "classes"
   ]
  },
  {
   "cell_type": "code",
   "execution_count": null,
   "id": "1ebe1ff9",
   "metadata": {},
   "outputs": [
    {
     "ename": "",
     "evalue": "",
     "output_type": "error",
     "traceback": [
      "\u001b[1;31mRunning cells with 'k:\\DATA SCIENCE Reference\\Projects\\News_Classifier_NLP\\newsenv\\python.exe' requires the ipykernel package.\n",
      "\u001b[1;31mRun the following command to install 'ipykernel' into the Python environment. \n",
      "\u001b[1;31mCommand: 'conda install -p k:\\DATA SCIENCE Reference\\Projects\\News_Classifier_NLP\\newsenv ipykernel --update-deps --force-reinstall'"
     ]
    }
   ],
   "source": [
    "from sklearn.metrics import confusion_matrix\n",
    "from sklearn.model_selection import cross_val_score\n",
    "from sklearn.metrics import accuracy_score\n",
    "from sklearn.neural_network import MLPClassifier\n",
    "from sklearn.feature_extraction.text import TfidfVectorizer\n",
    "from sklearn.linear_model import SGDClassifier"
   ]
  },
  {
   "cell_type": "code",
   "execution_count": null,
   "id": "db3158cb",
   "metadata": {},
   "outputs": [
    {
     "ename": "",
     "evalue": "",
     "output_type": "error",
     "traceback": [
      "\u001b[1;31mRunning cells with 'k:\\DATA SCIENCE Reference\\Projects\\News_Classifier_NLP\\newsenv\\python.exe' requires the ipykernel package.\n",
      "\u001b[1;31mRun the following command to install 'ipykernel' into the Python environment. \n",
      "\u001b[1;31mCommand: 'conda install -p k:\\DATA SCIENCE Reference\\Projects\\News_Classifier_NLP\\newsenv ipykernel --update-deps --force-reinstall'"
     ]
    }
   ],
   "source": [
    "X_train[1]"
   ]
  },
  {
   "cell_type": "code",
   "execution_count": null,
   "id": "22913dbe",
   "metadata": {},
   "outputs": [
    {
     "ename": "",
     "evalue": "",
     "output_type": "error",
     "traceback": [
      "\u001b[1;31mRunning cells with 'k:\\DATA SCIENCE Reference\\Projects\\News_Classifier_NLP\\newsenv\\python.exe' requires the ipykernel package.\n",
      "\u001b[1;31mRun the following command to install 'ipykernel' into the Python environment. \n",
      "\u001b[1;31mCommand: 'conda install -p k:\\DATA SCIENCE Reference\\Projects\\News_Classifier_NLP\\newsenv ipykernel --update-deps --force-reinstall'"
     ]
    }
   ],
   "source": [
    "vectorizer = TfidfVectorizer(analyzer='word', ngram_range=(1,2),  max_features=50000, max_df=0.5, use_idf=True, norm='l2')\n",
    "counts = vectorizer.fit_transform(X_train)\n",
    "vocab = vectorizer.vocabulary_"
   ]
  },
  {
   "cell_type": "code",
   "execution_count": null,
   "id": "e2973274",
   "metadata": {},
   "outputs": [
    {
     "ename": "",
     "evalue": "",
     "output_type": "error",
     "traceback": [
      "\u001b[1;31mRunning cells with 'k:\\DATA SCIENCE Reference\\Projects\\News_Classifier_NLP\\newsenv\\python.exe' requires the ipykernel package.\n",
      "\u001b[1;31mRun the following command to install 'ipykernel' into the Python environment. \n",
      "\u001b[1;31mCommand: 'conda install -p k:\\DATA SCIENCE Reference\\Projects\\News_Classifier_NLP\\newsenv ipykernel --update-deps --force-reinstall'"
     ]
    }
   ],
   "source": [
    "vocab"
   ]
  },
  {
   "cell_type": "code",
   "execution_count": null,
   "id": "64a71dfe",
   "metadata": {},
   "outputs": [
    {
     "ename": "",
     "evalue": "",
     "output_type": "error",
     "traceback": [
      "\u001b[1;31mRunning cells with 'k:\\DATA SCIENCE Reference\\Projects\\News_Classifier_NLP\\newsenv\\python.exe' requires the ipykernel package.\n",
      "\u001b[1;31mRun the following command to install 'ipykernel' into the Python environment. \n",
      "\u001b[1;31mCommand: 'conda install -p k:\\DATA SCIENCE Reference\\Projects\\News_Classifier_NLP\\newsenv ipykernel --update-deps --force-reinstall'"
     ]
    }
   ],
   "source": [
    "classifier = SGDClassifier(alpha=1e-05, max_iter=50, penalty='elasticnet')\n",
    "targets = y_train\n",
    "classfier = classifier.fit(counts, targets)\n",
    "examples_counts = vectorizer.transform(X_test)\n",
    "predictors = classifier.predict(examples_counts)"
   ]
  },
  {
   "cell_type": "code",
   "execution_count": null,
   "id": "20b52c6f",
   "metadata": {},
   "outputs": [
    {
     "ename": "",
     "evalue": "",
     "output_type": "error",
     "traceback": [
      "\u001b[1;31mRunning cells with 'k:\\DATA SCIENCE Reference\\Projects\\News_Classifier_NLP\\newsenv\\python.exe' requires the ipykernel package.\n",
      "\u001b[1;31mRun the following command to install 'ipykernel' into the Python environment. \n",
      "\u001b[1;31mCommand: 'conda install -p k:\\DATA SCIENCE Reference\\Projects\\News_Classifier_NLP\\newsenv ipykernel --update-deps --force-reinstall'"
     ]
    }
   ],
   "source": [
    "import pickle\n",
    "pickle.dump(classifier,open(\"news_classifier.pkl\",\"wb\"))\n",
    "pickle.dump(vocab,open(\"vocab_news_classifier.pkl\",\"wb\"))"
   ]
  },
  {
   "cell_type": "code",
   "execution_count": null,
   "id": "0a14f934",
   "metadata": {},
   "outputs": [
    {
     "ename": "",
     "evalue": "",
     "output_type": "error",
     "traceback": [
      "\u001b[1;31mRunning cells with 'k:\\DATA SCIENCE Reference\\Projects\\News_Classifier_NLP\\newsenv\\python.exe' requires the ipykernel package.\n",
      "\u001b[1;31mRun the following command to install 'ipykernel' into the Python environment. \n",
      "\u001b[1;31mCommand: 'conda install -p k:\\DATA SCIENCE Reference\\Projects\\News_Classifier_NLP\\newsenv ipykernel --update-deps --force-reinstall'"
     ]
    }
   ],
   "source": [
    "ls"
   ]
  },
  {
   "cell_type": "code",
   "execution_count": null,
   "id": "f6ed84b2",
   "metadata": {},
   "outputs": [
    {
     "ename": "",
     "evalue": "",
     "output_type": "error",
     "traceback": [
      "\u001b[1;31mRunning cells with 'k:\\DATA SCIENCE Reference\\Projects\\News_Classifier_NLP\\newsenv\\python.exe' requires the ipykernel package.\n",
      "\u001b[1;31mRun the following command to install 'ipykernel' into the Python environment. \n",
      "\u001b[1;31mCommand: 'conda install -p k:\\DATA SCIENCE Reference\\Projects\\News_Classifier_NLP\\newsenv ipykernel --update-deps --force-reinstall'"
     ]
    }
   ],
   "source": [
    "scores = cross_val_score(classfier, examples_counts, y_test, cv=5)"
   ]
  },
  {
   "cell_type": "code",
   "execution_count": null,
   "id": "7925e3ac",
   "metadata": {},
   "outputs": [
    {
     "ename": "",
     "evalue": "",
     "output_type": "error",
     "traceback": [
      "\u001b[1;31mRunning cells with 'k:\\DATA SCIENCE Reference\\Projects\\News_Classifier_NLP\\newsenv\\python.exe' requires the ipykernel package.\n",
      "\u001b[1;31mRun the following command to install 'ipykernel' into the Python environment. \n",
      "\u001b[1;31mCommand: 'conda install -p k:\\DATA SCIENCE Reference\\Projects\\News_Classifier_NLP\\newsenv ipykernel --update-deps --force-reinstall'"
     ]
    }
   ],
   "source": [
    "score = scores.mean()\n",
    "print(round(score,3))"
   ]
  },
  {
   "cell_type": "code",
   "execution_count": null,
   "id": "fbfed6cd",
   "metadata": {},
   "outputs": [
    {
     "ename": "",
     "evalue": "",
     "output_type": "error",
     "traceback": [
      "\u001b[1;31mRunning cells with 'k:\\DATA SCIENCE Reference\\Projects\\News_Classifier_NLP\\newsenv\\python.exe' requires the ipykernel package.\n",
      "\u001b[1;31mRun the following command to install 'ipykernel' into the Python environment. \n",
      "\u001b[1;31mCommand: 'conda install -p k:\\DATA SCIENCE Reference\\Projects\\News_Classifier_NLP\\newsenv ipykernel --update-deps --force-reinstall'"
     ]
    }
   ],
   "source": [
    "vec = open(\"news_classifier.pkl\", 'rb')\n",
    "loaded_model = pickle.load(vec)\n",
    "vcb = open(\"vocab_news_classifier.pkl\", 'rb')\n",
    "loaded_vocab = pickle.load(vcb)"
   ]
  },
  {
   "cell_type": "code",
   "execution_count": null,
   "id": "0f709931",
   "metadata": {},
   "outputs": [
    {
     "ename": "",
     "evalue": "",
     "output_type": "error",
     "traceback": [
      "\u001b[1;31mRunning cells with 'k:\\DATA SCIENCE Reference\\Projects\\News_Classifier_NLP\\newsenv\\python.exe' requires the ipykernel package.\n",
      "\u001b[1;31mRun the following command to install 'ipykernel' into the Python environment. \n",
      "\u001b[1;31mCommand: 'conda install -p k:\\DATA SCIENCE Reference\\Projects\\News_Classifier_NLP\\newsenv ipykernel --update-deps --force-reinstall'"
     ]
    }
   ],
   "source": [
    "test = clean_text(dataset.iloc[2,1])\n",
    "examples = [test]"
   ]
  },
  {
   "cell_type": "code",
   "execution_count": null,
   "id": "1202abe9",
   "metadata": {},
   "outputs": [
    {
     "ename": "",
     "evalue": "",
     "output_type": "error",
     "traceback": [
      "\u001b[1;31mRunning cells with 'k:\\DATA SCIENCE Reference\\Projects\\News_Classifier_NLP\\newsenv\\python.exe' requires the ipykernel package.\n",
      "\u001b[1;31mRun the following command to install 'ipykernel' into the Python environment. \n",
      "\u001b[1;31mCommand: 'conda install -p k:\\DATA SCIENCE Reference\\Projects\\News_Classifier_NLP\\newsenv ipykernel --update-deps --force-reinstall'"
     ]
    }
   ],
   "source": [
    "from sklearn.feature_extraction.text import TfidfTransformer"
   ]
  },
  {
   "cell_type": "code",
   "execution_count": null,
   "id": "891dd8f3",
   "metadata": {},
   "outputs": [
    {
     "ename": "",
     "evalue": "",
     "output_type": "error",
     "traceback": [
      "\u001b[1;31mRunning cells with 'k:\\DATA SCIENCE Reference\\Projects\\News_Classifier_NLP\\newsenv\\python.exe' requires the ipykernel package.\n",
      "\u001b[1;31mRun the following command to install 'ipykernel' into the Python environment. \n",
      "\u001b[1;31mCommand: 'conda install -p k:\\DATA SCIENCE Reference\\Projects\\News_Classifier_NLP\\newsenv ipykernel --update-deps --force-reinstall'"
     ]
    }
   ],
   "source": [
    "count_vect = TfidfVectorizer(analyzer='word',ngram_range=(1,2), max_features=50000,max_df=0.5,use_idf=True, norm='l2',vocabulary=loaded_vocab)\n",
    "tfidf_transformer = TfidfTransformer()\n",
    "x_count = count_vect.fit_transform(examples)\n",
    "predicted = loaded_model.predict(x_count)\n",
    "result_category = predicted[0]\n",
    "result_category"
   ]
  },
  {
   "cell_type": "code",
   "execution_count": null,
   "id": "a8dcad40",
   "metadata": {},
   "outputs": [
    {
     "ename": "",
     "evalue": "",
     "output_type": "error",
     "traceback": [
      "\u001b[1;31mRunning cells with 'k:\\DATA SCIENCE Reference\\Projects\\News_Classifier_NLP\\newsenv\\python.exe' requires the ipykernel package.\n",
      "\u001b[1;31mRun the following command to install 'ipykernel' into the Python environment. \n",
      "\u001b[1;31mCommand: 'conda install -p k:\\DATA SCIENCE Reference\\Projects\\News_Classifier_NLP\\newsenv ipykernel --update-deps --force-reinstall'"
     ]
    }
   ],
   "source": [
    "le.inverse_transform([3])"
   ]
  },
  {
   "cell_type": "code",
   "execution_count": null,
   "id": "1575ed2a",
   "metadata": {},
   "outputs": [
    {
     "ename": "",
     "evalue": "",
     "output_type": "error",
     "traceback": [
      "\u001b[1;31mRunning cells with 'k:\\DATA SCIENCE Reference\\Projects\\News_Classifier_NLP\\newsenv\\python.exe' requires the ipykernel package.\n",
      "\u001b[1;31mRun the following command to install 'ipykernel' into the Python environment. \n",
      "\u001b[1;31mCommand: 'conda install -p k:\\DATA SCIENCE Reference\\Projects\\News_Classifier_NLP\\newsenv ipykernel --update-deps --force-reinstall'"
     ]
    }
   ],
   "source": [
    "newTest = \"\"\"Chinese smartphone major Xiaomi on Thursday said its arm MI India will distribute 2,500 handsets worth Rs 2 crore to support online education of children who are worst affected by the COVID-19 pandemic in the country. \"MI India distribution and retails came up with a fantastic idea. Together they will be contributing 2,500 smartphones to enable children most impacted by the pandemic to access quality education. In this endeavour we found the right partner Teach for India who is committed to the cause,\" its chief operating officer Muralikrishnan B said in an online video.\n",
    "\n",
    "The company's managing director Manu Jain said MI India is committed to digital India initiative and has always supported education for all.\n",
    "\n",
    "The company shared that the smartphones pledged are worth Rs 2 crore. Jain appealed to people to bring in notice of the company about anyone who needs a smartphone for online education and the company will try to help them.\n",
    "\"\"\""
   ]
  },
  {
   "cell_type": "code",
   "execution_count": null,
   "id": "248bb2bc",
   "metadata": {},
   "outputs": [
    {
     "ename": "",
     "evalue": "",
     "output_type": "error",
     "traceback": [
      "\u001b[1;31mRunning cells with 'k:\\DATA SCIENCE Reference\\Projects\\News_Classifier_NLP\\newsenv\\python.exe' requires the ipykernel package.\n",
      "\u001b[1;31mRun the following command to install 'ipykernel' into the Python environment. \n",
      "\u001b[1;31mCommand: 'conda install -p k:\\DATA SCIENCE Reference\\Projects\\News_Classifier_NLP\\newsenv ipykernel --update-deps --force-reinstall'"
     ]
    }
   ],
   "source": [
    "test= clean_text(newTest)\n",
    "examples = [test]\n",
    "count_vect = TfidfVectorizer(analyzer='word',ngram_range=(1,2), max_features=50000,max_df=0.5,use_idf=True, norm='l2',vocabulary=loaded_vocab)\n",
    "tfidf_transformer = TfidfTransformer()\n",
    "x_count = count_vect.fit_transform(examples)\n",
    "predicted = loaded_model.predict(x_count)\n",
    "result_category = predicted[0]\n",
    "result_category"
   ]
  },
  {
   "cell_type": "code",
   "execution_count": null,
   "id": "870f6dc6",
   "metadata": {},
   "outputs": [
    {
     "ename": "",
     "evalue": "",
     "output_type": "error",
     "traceback": [
      "\u001b[1;31mRunning cells with 'k:\\DATA SCIENCE Reference\\Projects\\News_Classifier_NLP\\newsenv\\python.exe' requires the ipykernel package.\n",
      "\u001b[1;31mRun the following command to install 'ipykernel' into the Python environment. \n",
      "\u001b[1;31mCommand: 'conda install -p k:\\DATA SCIENCE Reference\\Projects\\News_Classifier_NLP\\newsenv ipykernel --update-deps --force-reinstall'"
     ]
    }
   ],
   "source": [
    "final_pred = le.inverse_transform([result_category])\n",
    "print(final_pred)"
   ]
  },
  {
   "cell_type": "code",
   "execution_count": null,
   "id": "486b3101",
   "metadata": {},
   "outputs": [
    {
     "ename": "",
     "evalue": "",
     "output_type": "error",
     "traceback": [
      "\u001b[1;31mRunning cells with 'k:\\DATA SCIENCE Reference\\Projects\\News_Classifier_NLP\\newsenv\\python.exe' requires the ipykernel package.\n",
      "\u001b[1;31mRun the following command to install 'ipykernel' into the Python environment. \n",
      "\u001b[1;31mCommand: 'conda install -p k:\\DATA SCIENCE Reference\\Projects\\News_Classifier_NLP\\newsenv ipykernel --update-deps --force-reinstall'"
     ]
    }
   ],
   "source": []
  }
 ],
 "metadata": {
  "kernelspec": {
   "display_name": "Python 3",
   "language": "python",
   "name": "python3"
  },
  "language_info": {
   "codemirror_mode": {
    "name": "ipython",
    "version": 3
   },
   "file_extension": ".py",
   "mimetype": "text/x-python",
   "name": "python",
   "nbconvert_exporter": "python",
   "pygments_lexer": "ipython3",
   "version": "3.11.0"
  },
  "vscode": {
   "interpreter": {
    "hash": "79226490f7abaf7fc980b031870bbb9fbb655bd003c7dc138a7f7d3acbdb72b6"
   }
  }
 },
 "nbformat": 4,
 "nbformat_minor": 5
}
